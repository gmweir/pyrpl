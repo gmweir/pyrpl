{
 "cells": [
  {
   "cell_type": "code",
   "execution_count": 2,
   "metadata": {},
   "outputs": [],
   "source": [
    "# Check python version and report it\n",
    "import sys\n",
    "sys.version"
   ]
  },
  {
   "cell_type": "code",
   "execution_count": null,
   "metadata": {},
   "outputs": [],
   "source": [
    "# General imports\n",
    "import os"
   ]
  },
  {
   "cell_type": "markdown",
   "metadata": {},
   "source": [
    "Plot to external windows from the notebook by using Qt as the backend:\n",
    "    '%pylab qt'\n",
    "or make inline plots in the notebook\n",
    "    '%pylab inline'"
   ]
  },
  {
   "cell_type": "code",
   "execution_count": 4,
   "metadata": {},
   "outputs": [
    {
     "name": "stdout",
     "output_type": "stream",
     "text": [
      "Populating the interactive namespace from numpy and matplotlib\n"
     ]
    }
   ],
   "source": [
    "%pylab qt"
   ]
  },
  {
   "cell_type": "markdown",
   "metadata": {},
   "source": [
    "#### Setup the python path is necessary\n",
    "\n",
    "This is the location of your pyrpl repo. It is only necessary if you are doing development and did not install pyrpl. \n",
    "\n",
    "For reference, you can use \n",
    "    'pip install --editable .' \n",
    "in your git repo to add it to your python path automatically."
   ]
  },
  {
   "cell_type": "code",
   "execution_count": null,
   "metadata": {},
   "outputs": [],
   "source": [
    "if 0:   # change if necessary\n",
    "    pyrpl_home = os.path.join('G:/', 'Workshop', 'projects', 'pyrpl')  # path to git repo ('pyrpl_home/pyrpl' is the package)\n",
    "    \n",
    "    # Add pyrpl to your local python path\n",
    "    sys.path.append(pyrpl_home)\n",
    "else:\n",
    "    pyrpl_home = os.path.abspath(os.path.join(os.path.dirname(pyrpl.__file__), '..'))"
   ]
  },
  {
   "cell_type": "markdown",
   "metadata": {},
   "source": [
    "Test the import of pyrpl"
   ]
  },
  {
   "cell_type": "code",
   "execution_count": null,
   "metadata": {},
   "outputs": [],
   "source": [
    "from pyrpl import Pyrpl"
   ]
  },
  {
   "cell_type": "markdown",
   "metadata": {},
   "source": [
    "##### Test importing asynchronous methods. They are extremely dependent on python version due to fundamental changes in how asyncio is done in python 3.6+."
   ]
  },
  {
   "cell_type": "code",
   "execution_count": 4,
   "metadata": {},
   "outputs": [
    {
     "name": "stdout",
     "output_type": "stream",
     "text": [
      "Warning: QApplication was created before pyqtgraph was imported; there may be problems (to avoid bugs, call QApplication.setGraphicsSystem(\"raster\") before the QApplication is created).\n"
     ]
    }
   ],
   "source": [
    "from pyrpl.async_utils import sleep, wait, ensure_future, sleep_async\n",
    "from asyncio import iscoroutine, Future"
   ]
  },
  {
   "cell_type": "markdown",
   "metadata": {},
   "source": [
    "#### Quickly test the asyncio features and functions "
   ]
  },
  {
   "cell_type": "code",
   "execution_count": 33,
   "metadata": {},
   "outputs": [
    {
     "data": {
      "text/plain": [
       "<coroutine object sleep_async at 0x7fd95600d710>"
      ]
     },
     "execution_count": 33,
     "metadata": {},
     "output_type": "execute_result"
    }
   ],
   "source": [
    "sleep_async(1)"
   ]
  },
  {
   "cell_type": "code",
   "execution_count": 17,
   "metadata": {},
   "outputs": [
    {
     "data": {
      "text/plain": [
       "True"
      ]
     },
     "execution_count": 17,
     "metadata": {},
     "output_type": "execute_result"
    }
   ],
   "source": [
    "isinstance(ensure_future(sleep_async(1)), Future)"
   ]
  },
  {
   "cell_type": "code",
   "execution_count": 2,
   "metadata": {},
   "outputs": [],
   "source": [
    "t = ensure_future(sleep_async(1))"
   ]
  },
  {
   "cell_type": "code",
   "execution_count": 5,
   "metadata": {},
   "outputs": [
    {
     "data": {
      "text/plain": [
       "True"
      ]
     },
     "execution_count": 5,
     "metadata": {},
     "output_type": "execute_result"
    }
   ],
   "source": [
    "isinstance(t, Future)"
   ]
  },
  {
   "cell_type": "code",
   "execution_count": 8,
   "metadata": {},
   "outputs": [
    {
     "data": {
      "text/plain": [
       "<Task finished coro=<sleep_async() done, defined at /Users/samuel/Documents/GitHub/pyrpl/pyrpl/async_utils.py:66> result=None>"
      ]
     },
     "execution_count": 8,
     "metadata": {},
     "output_type": "execute_result"
    }
   ],
   "source": [
    "t"
   ]
  },
  {
   "cell_type": "code",
   "execution_count": 9,
   "metadata": {},
   "outputs": [
    {
     "data": {
      "text/plain": [
       "<Task pending coro=<sleep_async() running at /Users/samuel/Documents/GitHub/pyrpl/pyrpl/async_utils.py:66>>"
      ]
     },
     "execution_count": 9,
     "metadata": {},
     "output_type": "execute_result"
    }
   ],
   "source": [
    "ensure_future(sleep_async(1))"
   ]
  },
  {
   "cell_type": "code",
   "execution_count": 29,
   "metadata": {},
   "outputs": [
    {
     "data": {
      "text/plain": [
       "_asyncio.Future"
      ]
     },
     "execution_count": 29,
     "metadata": {},
     "output_type": "execute_result"
    }
   ],
   "source": [
    "Future"
   ]
  },
  {
   "cell_type": "code",
   "execution_count": 32,
   "metadata": {},
   "outputs": [
    {
     "data": {
      "text/plain": [
       "_asyncio.Task"
      ]
     },
     "execution_count": 32,
     "metadata": {},
     "output_type": "execute_result"
    }
   ],
   "source": [
    "t.__class__"
   ]
  },
  {
   "cell_type": "code",
   "execution_count": 31,
   "metadata": {},
   "outputs": [
    {
     "data": {
      "text/plain": [
       "'\\n    Schedules the task described by the coroutine. Deals properly with\\n    IPython kernel integration.\\n    '"
      ]
     },
     "execution_count": 31,
     "metadata": {},
     "output_type": "execute_result"
    }
   ],
   "source": [
    "ensure_future.__doc__"
   ]
  },
  {
   "cell_type": "code",
   "execution_count": 10,
   "metadata": {},
   "outputs": [],
   "source": [
    "from asyncio.tasks import Task"
   ]
  },
  {
   "cell_type": "code",
   "execution_count": 13,
   "metadata": {},
   "outputs": [
    {
     "data": {
      "text/plain": [
       "True"
      ]
     },
     "execution_count": 13,
     "metadata": {},
     "output_type": "execute_result"
    },
    {
     "name": "stderr",
     "output_type": "stream",
     "text": [
      "ERROR:asyncio:Task exception was never retrieved\n",
      "future: <Task finished coro=<sleep_async() done, defined at /Users/samuel/Documents/GitHub/pyrpl/pyrpl/async_utils.py:66> exception=RuntimeError('Task <Task pending coro=<sleep_async() running at /Users/samuel/Documents/GitHub/pyrpl/pyrpl/async_utils.py:71>> got Future <Future pending> attached to a different loop')>\n",
      "Traceback (most recent call last):\n",
      "  File \"/Users/samuel/Documents/GitHub/pyrpl/pyrpl/async_utils.py\", line 71, in sleep_async\n",
      "    await asyncio.sleep(time_s, loop=LOOP)\n",
      "  File \"/Users/samuel/opt/anaconda3/envs/py37/lib/python3.7/asyncio/tasks.py\", line 595, in sleep\n",
      "    return await future\n",
      "RuntimeError: Task <Task pending coro=<sleep_async() running at /Users/samuel/Documents/GitHub/pyrpl/pyrpl/async_utils.py:71>> got Future <Future pending> attached to a different loop\n"
     ]
    }
   ],
   "source": [
    "isinstance(Task(sleep_async(1)), Future)"
   ]
  },
  {
   "cell_type": "markdown",
   "metadata": {},
   "source": [
    "##### If pyrpl successfully imports, then make a connection to a red-pitaya to test it"
   ]
  },
  {
   "cell_type": "code",
   "execution_count": null,
   "metadata": {},
   "outputs": [],
   "source": [
    "# This is your red pitaya IP address or host-name.\n",
    "if 1:\n",
    "    # Code testing no active connection desired\n",
    "    rphost = \"redpitaya\"\n",
    "else:\n",
    "    # Testing with a real device\n",
    "    rphost = '192.168.44.111'\n",
    "\n",
    "if 0:  # If you like you can add your red-pitaya host as an environment variable\n",
    "    os.environ[\"REDPITAYA_HOSTNAME\"] = rphost"
   ]
  },
  {
   "cell_type": "markdown",
   "metadata": {},
   "source": [
    "Instantiate a Pyrpl object\n",
    "\n",
    "Note that passing an empty config string is identical with passing nothing as it is replaced with the default, config = None"
   ]
  },
  {
   "cell_type": "code",
   "execution_count": 5,
   "metadata": {},
   "outputs": [
    {
     "name": "stderr",
     "output_type": "stream",
     "text": [
      "INFO:pyrpl.redpitaya:Successfully connected to Redpitaya with hostname redpitaya.\n"
     ]
    }
   ],
   "source": [
    "p = Pyrpl(config=\"\")"
   ]
  },
  {
   "cell_type": "markdown",
   "metadata": {},
   "source": [
    "These classes / functions allow running jupyter notebooks remotely"
   ]
  },
  {
   "cell_type": "markdown",
   "metadata": {},
   "source": [
    "#### Run the test notebook externally"
   ]
  },
  {
   "cell_type": "code",
   "execution_count": null,
   "metadata": {},
   "outputs": [],
   "source": [
    "import nbformat\n",
    "from nbconvert.preprocessors import ExecutePreprocessor\n",
    "from nbconvert.preprocessors.execute import CellExecutionError\n",
    "\n",
    "class MyExecutePreprocessor(ExecutePreprocessor):\n",
    "    def preprocess_cell(self, cell, resources, cell_index):\n",
    "        if cell.source.startswith(\"#no-test\"):\n",
    "            return cell, resources\n",
    "        if cell.source.startswith(\"#define-hostname\"):\n",
    "            # replace hostname by unittest hostname\n",
    "            if defaultparameters[\"hostname\"] is not None:\n",
    "                cell.source = 'HOSTNAME = ' + defaultparameters[\"hostname\"]\n",
    "            if 'REDPITAYA_HOSTNAME' in os.environ:\n",
    "                cell.source = 'HOSTNAME = \"' + os.environ[\n",
    "                    \"REDPITAYA_HOSTNAME\"] + '\"'\n",
    "        return super(MyExecutePreprocessor, self).preprocess_cell(cell,\\\n",
    "                resources, cell_index)\n",
    "\n",
    "\n",
    "def _notebook_run(path):\n",
    "    \"\"\"\n",
    "    Execute a notebook via nbconvert and collect output.\n",
    "    :returns (parsed nb object, execution errors)\n",
    "    \"\"\"\n",
    "    kernel_name = 'python%d' % sys.version_info[0]\n",
    "    errors = []\n",
    "\n",
    "\n",
    "    with open(path) as f:\n",
    "        nb = nbformat.read(f, as_version=4)\n",
    "        nb.metadata.get('kernelspec', {})['name'] = kernel_name\n",
    "        ep = MyExecutePreprocessor(kernel_name=kernel_name, timeout=65) #,\n",
    "        # allow_errors=True\n",
    "        #ep.start_new_kernel()\n",
    "        try:\n",
    "            ep.preprocess(nb, resources={'metadata': {'path': \"\"}})\n",
    "        except (CellExecutionError, TimeoutError) as e:\n",
    "          if hasattr(e, 'traceback') and \"SKIP\" in e.traceback:\n",
    "                print(str(e.traceback).split(\"\\n\")[-2])\n",
    "          else:\n",
    "            raise e\n",
    "    return nb, errors"
   ]
  },
  {
   "cell_type": "code",
   "execution_count": null,
   "metadata": {},
   "outputs": [],
   "source": [
    "# filename = r\"/Users/samuel/Documents/GitHub/pyrpl/pyrpl/test/test_ipython_notebook/test_notebook.ipynb\"\n",
    "filename = r\"\" + os.path.join(pyrpl_home, 'pyrpl', 'test', 'test_ipython_notebook', 'test_notebook.ipynb')"
   ]
  },
  {
   "cell_type": "code",
   "execution_count": null,
   "metadata": {},
   "outputs": [],
   "source": [
    "_notebook_run(filename)"
   ]
  },
  {
   "cell_type": "code",
   "execution_count": null,
   "metadata": {},
   "outputs": [],
   "source": []
  }
 ],
 "metadata": {
  "kernelspec": {
   "display_name": "Python 3 (Spyder)",
   "language": "python3",
   "name": "python3"
  },
  "language_info": {
   "codemirror_mode": {
    "name": "ipython",
    "version": 3
   },
   "file_extension": ".py",
   "mimetype": "text/x-python",
   "name": "python",
   "nbconvert_exporter": "python",
   "pygments_lexer": "ipython3",
   "version": "3.11.4"
  }
 },
 "nbformat": 4,
 "nbformat_minor": 4
}
